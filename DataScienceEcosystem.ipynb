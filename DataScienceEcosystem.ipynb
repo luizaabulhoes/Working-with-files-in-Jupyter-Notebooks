{
 "cells": [
  {
   "cell_type": "code",
   "execution_count": 1,
   "id": "01c6c269-00e6-430b-a0b8-f9dc846cc108",
   "metadata": {},
   "outputs": [],
   "source": [
    "## Data Science Tools and Ecosystem\n"
   ]
  },
  {
   "cell_type": "code",
   "execution_count": 2,
   "id": "dff667db-bac3-42ef-9e85-3df0eddc125b",
   "metadata": {},
   "outputs": [],
   "source": [
    "### In this notebook, Data Science Tools and Ecosystem are summarized."
   ]
  },
  {
   "cell_type": "code",
   "execution_count": 5,
   "id": "7ea4a0a6-8b17-4e1c-b22c-68b069858600",
   "metadata": {},
   "outputs": [
    {
     "name": "stdout",
     "output_type": "stream",
     "text": [
      "['Python', 'R', 'SQL', 'Julia', 'Java']\n"
     ]
    }
   ],
   "source": [
    "languages = [\"Python\", \"R\", \"SQL\", \"Julia\", \"Java\"]\n",
    "print(languages)"
   ]
  },
  {
   "cell_type": "code",
   "execution_count": 7,
   "id": "3f79fa58-789d-4509-9d3e-cd78032e9b8f",
   "metadata": {},
   "outputs": [],
   "source": [
    "## Some of the commonly used libraries used by Data Scientists include:\n",
    "libraries = ['NumPy', 'Pandas', 'Scikit-learn', 'TensorFlow', 'Matplotlib']"
   ]
  },
  {
   "cell_type": "code",
   "execution_count": 9,
   "id": "a47f06a3-4e12-46b0-afc5-f12665e967c5",
   "metadata": {},
   "outputs": [
    {
     "name": "stdout",
     "output_type": "stream",
     "text": [
      "['NumPy', 'Pandas', 'Scikit-learn', 'TensorFlow', 'Matplotlib']\n"
     ]
    }
   ],
   "source": [
    "print(libraries)"
   ]
  },
  {
   "cell_type": "markdown",
   "id": "a1730241-0ee2-454c-a6c5-5ea18479b87a",
   "metadata": {},
   "source": [
    "\n",
    "| Data Science Tools |\n",
    "|--------------------|\n",
    "| Jupyter Notebook   |\n",
    "| RStudio            |\n",
    "| Apache Zeppelin    |\n"
   ]
  },
  {
   "cell_type": "markdown",
   "id": "88754dce-1986-4057-a526-ba65ee53a45f",
   "metadata": {},
   "source": [
    " Below are a few examples of evaluating arithmetic expressions in Python."
   ]
  },
  {
   "cell_type": "code",
   "execution_count": 12,
   "id": "509f85d1-1e00-4c68-b2c9-222f6b72a926",
   "metadata": {},
   "outputs": [
    {
     "data": {
      "text/plain": [
       "17"
      ]
     },
     "execution_count": 12,
     "metadata": {},
     "output_type": "execute_result"
    }
   ],
   "source": [
    "# Code to multiply and add numbers\n",
    "# This a simple arithmetic expression to multiply then add integers\n",
    "(3*4)+5 "
   ]
  },
  {
   "cell_type": "code",
   "execution_count": 13,
   "id": "9ff0c925-01d9-4998-aa85-71cffbe48bfc",
   "metadata": {},
   "outputs": [
    {
     "data": {
      "text/plain": [
       "3.3333333333333335"
      ]
     },
     "execution_count": 13,
     "metadata": {},
     "output_type": "execute_result"
    }
   ],
   "source": [
    " # Code to convert minutes to hours\n",
    "# This will convert 200 minutes to hours by dividing by 60\n",
    "200 / 60 "
   ]
  },
  {
   "cell_type": "markdown",
   "id": "ace8ce9a-a60c-479f-b9bb-f1bf89a92fce",
   "metadata": {},
   "source": [
    " ## **Objectives:**\n",
    "- List popular languages for Data Science\n",
    "- Identify commonly used libraries in Data Science\n",
    "- Recognize development environment tools\n",
    "- Perform arithmetic operations in Python\n"
   ]
  },
  {
   "cell_type": "markdown",
   "id": "fbf61818-e1bb-48e1-8c12-a766a29ad070",
   "metadata": {},
   "source": [
    "## Author\n",
    "Maria Luíza"
   ]
  },
  {
   "cell_type": "code",
   "execution_count": null,
   "id": "6691cf69-f9dd-4746-b9af-5be7b2e0f8ef",
   "metadata": {},
   "outputs": [],
   "source": []
  }
 ],
 "metadata": {
  "kernelspec": {
   "display_name": "Python 3 (ipykernel)",
   "language": "python",
   "name": "python3"
  },
  "language_info": {
   "codemirror_mode": {
    "name": "ipython",
    "version": 3
   },
   "file_extension": ".py",
   "mimetype": "text/x-python",
   "name": "python",
   "nbconvert_exporter": "python",
   "pygments_lexer": "ipython3",
   "version": "3.11.7"
  }
 },
 "nbformat": 4,
 "nbformat_minor": 5
}
